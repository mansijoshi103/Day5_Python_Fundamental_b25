{
 "cells": [
  {
   "cell_type": "code",
   "execution_count": 1,
   "metadata": {},
   "outputs": [],
   "source": [
    "#list datatype"
   ]
  },
  {
   "cell_type": "code",
   "execution_count": 2,
   "metadata": {},
   "outputs": [
    {
     "name": "stdout",
     "output_type": "stream",
     "text": [
      "['python', 'c++', 'perl', 'java', 'html', 'javascript']\n"
     ]
    }
   ],
   "source": [
    "language=[\"python\",\"c++\",\"perl\",\"java\",\"html\",\"javascript\"]\n",
    "print(language)"
   ]
  },
  {
   "cell_type": "code",
   "execution_count": 5,
   "metadata": {},
   "outputs": [
    {
     "name": "stdout",
     "output_type": "stream",
     "text": [
      "this laguage is more important, python\n"
     ]
    }
   ],
   "source": [
    "print(f\"this laguage is more important, {language[0]}\")"
   ]
  },
  {
   "cell_type": "code",
   "execution_count": 6,
   "metadata": {},
   "outputs": [],
   "source": [
    "#introduction to for loop"
   ]
  },
  {
   "cell_type": "code",
   "execution_count": 7,
   "metadata": {},
   "outputs": [
    {
     "name": "stdout",
     "output_type": "stream",
     "text": [
      "python\n",
      "c++\n",
      "perl\n",
      "java\n",
      "html\n",
      "javascript\n"
     ]
    }
   ],
   "source": [
    "for x in language:\n",
    "    print(x)"
   ]
  },
  {
   "cell_type": "code",
   "execution_count": 9,
   "metadata": {},
   "outputs": [
    {
     "name": "stdout",
     "output_type": "stream",
     "text": [
      "This language is important,python\n",
      "This language is important,c++\n",
      "This language is important,perl\n",
      "This language is important,java\n",
      "This language is important,html\n",
      "This language is important,javascript\n"
     ]
    }
   ],
   "source": [
    "for x in language:\n",
    "    print(f\"This language is important,{x}\")"
   ]
  },
  {
   "cell_type": "code",
   "execution_count": 10,
   "metadata": {},
   "outputs": [
    {
     "name": "stdout",
     "output_type": "stream",
     "text": [
      "This language is important,python\n",
      "I am working on my project on this language,python\n",
      "This language is important,c++\n",
      "I am working on my project on this language,c++\n",
      "This language is important,perl\n",
      "I am working on my project on this language,perl\n",
      "This language is important,java\n",
      "I am working on my project on this language,java\n",
      "This language is important,html\n",
      "I am working on my project on this language,html\n",
      "This language is important,javascript\n",
      "I am working on my project on this language,javascript\n"
     ]
    }
   ],
   "source": [
    "for x in language:\n",
    "    print(f\"This language is important,{x}\")\n",
    "    print(f\"I am working on my project on this language,{x}\")"
   ]
  },
  {
   "cell_type": "code",
   "execution_count": 11,
   "metadata": {},
   "outputs": [
    {
     "name": "stdout",
     "output_type": "stream",
     "text": [
      "This language is important,python\n",
      "I am working on my project on this language,python.\n",
      "\n",
      "This language is important,c++\n",
      "I am working on my project on this language,c++.\n",
      "\n",
      "This language is important,perl\n",
      "I am working on my project on this language,perl.\n",
      "\n",
      "This language is important,java\n",
      "I am working on my project on this language,java.\n",
      "\n",
      "This language is important,html\n",
      "I am working on my project on this language,html.\n",
      "\n",
      "This language is important,javascript\n",
      "I am working on my project on this language,javascript.\n",
      "\n"
     ]
    }
   ],
   "source": [
    "for x in language:\n",
    "    print(f\"This language is important,{x}\")\n",
    "    print(f\"I am working on my project on this language,{x}.\\n\")"
   ]
  },
  {
   "cell_type": "code",
   "execution_count": 13,
   "metadata": {},
   "outputs": [
    {
     "name": "stdout",
     "output_type": "stream",
     "text": [
      "This language is important,python\n",
      "I am working on my project on this language,python.\n",
      "\n",
      "This language is important,c++\n",
      "I am working on my project on this language,c++.\n",
      "\n",
      "This language is important,perl\n",
      "I am working on my project on this language,perl.\n",
      "\n",
      "This language is important,java\n",
      "I am working on my project on this language,java.\n",
      "\n",
      "This language is important,html\n",
      "I am working on my project on this language,html.\n",
      "\n",
      "This language is important,javascript\n",
      "I am working on my project on this language,javascript.\n",
      "\n",
      "Thank you\n"
     ]
    }
   ],
   "source": [
    "for x in language:\n",
    "    print(f\"This language is important,{x}\")\n",
    "    print(f\"I am working on my project on this language,{x}.\\n\")\n",
    "print(\"Thank you\")"
   ]
  },
  {
   "cell_type": "code",
   "execution_count": null,
   "metadata": {},
   "outputs": [],
   "source": []
  }
 ],
 "metadata": {
  "kernelspec": {
   "display_name": "Python 3",
   "language": "python",
   "name": "python3"
  },
  "language_info": {
   "codemirror_mode": {
    "name": "ipython",
    "version": 3
   },
   "file_extension": ".py",
   "mimetype": "text/x-python",
   "name": "python",
   "nbconvert_exporter": "python",
   "pygments_lexer": "ipython3",
   "version": "3.7.6"
  }
 },
 "nbformat": 4,
 "nbformat_minor": 4
}
